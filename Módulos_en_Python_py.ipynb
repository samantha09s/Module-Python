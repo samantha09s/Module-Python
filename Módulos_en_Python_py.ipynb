{
  "nbformat": 4,
  "nbformat_minor": 0,
  "metadata": {
    "colab": {
      "provenance": [],
      "authorship_tag": "ABX9TyMR7MAgCsstl4YaGy21ROpN",
      "include_colab_link": true
    },
    "kernelspec": {
      "name": "python3",
      "display_name": "Python 3"
    },
    "language_info": {
      "name": "python"
    }
  },
  "cells": [
    {
      "cell_type": "markdown",
      "metadata": {
        "id": "view-in-github",
        "colab_type": "text"
      },
      "source": [
        "<a href=\"https://colab.research.google.com/github/samantha09s/Module-Python/blob/main/M%C3%B3dulos_en_Python_py.ipynb\" target=\"_parent\"><img src=\"https://colab.research.google.com/assets/colab-badge.svg\" alt=\"Open In Colab\"/></a>"
      ]
    },
    {
      "cell_type": "markdown",
      "source": [
        "# **Módulos en Python: Calculadora Simple**\n",
        "\n",
        "## **Descripción**\n",
        "En esta actividad, crearemos dos módulos en Python:\n",
        "\n",
        "1. **`operaciones.py`**: Contendrá funciones para realizar las operaciones básicas: suma, resta, multiplicación y división.\n",
        "2. **`calculator.py`**: Será el programa principal donde el usuario seleccionará una operación y se ejecutará con los números ingresados."
      ],
      "metadata": {
        "id": "iSmHIpBLtqet"
      }
    },
    {
      "cell_type": "markdown",
      "source": [
        "## **Módulo: `operaciones.py`**\n",
        "\n",
        "*   Contiene funciones para realizar operaciones aritméticas básicas.\n",
        "\n"
      ],
      "metadata": {
        "id": "_YdiSI-WoJ-8"
      }
    },
    {
      "cell_type": "code",
      "source": [
        "%%writefile operaciones.py\n",
        "\n",
        "# Definición de la función suma\n",
        "def suma(a, b):\n",
        "    # Retorna la suma de los dos números a y b\n",
        "    return a + b\n",
        "\n",
        "# Definición de la función resta\n",
        "def resta(a, b):\n",
        "    # Retorna la resta de los dos números a y b\n",
        "    return a - b\n",
        "\n",
        "# Definición de la función multiplicación\n",
        "def multiplicacion(a, b):\n",
        "    # Retorna el producto de los dos números a y b\n",
        "    return a * b\n",
        "\n",
        "# Definición de la función división\n",
        "def division(a, b):\n",
        "    # Verifica si el divisor (b) es diferente de cero\n",
        "    if b != 0:\n",
        "        # Si es válido, retorna el resultado de la división a / b\n",
        "        return a / b\n",
        "    else:\n",
        "        # Si b es cero, retorna un mensaje de error\n",
        "        return \"Error: No se puede dividir entre cero\""
      ],
      "metadata": {
        "colab": {
          "base_uri": "https://localhost:8080/"
        },
        "id": "Vg1CVPHdsSxA",
        "outputId": "258f35ba-1a35-4a42-f633-939ebf997246"
      },
      "execution_count": null,
      "outputs": [
        {
          "output_type": "stream",
          "name": "stdout",
          "text": [
            "Overwriting operaciones.py\n"
          ]
        }
      ]
    },
    {
      "cell_type": "markdown",
      "source": [
        "## **Módulo Principal: `calculator.py`**\n",
        "\n",
        "*   Este módulo importa `operaciones.py` y permite al usuario elegir una operación matemática.\n",
        "\n"
      ],
      "metadata": {
        "id": "HlMfiqQUrMNt"
      }
    },
    {
      "cell_type": "code",
      "source": [
        "%%writefile calculator.py\n",
        "\n",
        "# Importa el módulo operaciones que contiene las funciones matemáticas\n",
        "import operaciones\n",
        "\n",
        "# Definición de la función principal del programa\n",
        "def main():\n",
        "    # Muestra un mensaje de bienvenida y las opciones disponibles\n",
        "    print(\"Calculadora sencilla\")\n",
        "    print(\"1: Suma\")\n",
        "    print(\"2: Resta\")\n",
        "    print(\"3: Multiplicación\")\n",
        "    print(\"4: División\")\n",
        "\n",
        "    # Solicita al usuario que seleccione una operación\n",
        "    opcion = input(\"Seleccione la operación (1/2/3/4): \")\n",
        "\n",
        "    # Bloque try-except para manejar errores de entrada\n",
        "    try:\n",
        "        # Solicita al usuario que ingrese dos números\n",
        "        num1 = float(input(\"Ingrese el primer número: \"))\n",
        "        num2 = float(input(\"Ingrese el segundo número: \"))\n",
        "    except ValueError:\n",
        "        # Si el usuario ingresa algo que no es un número, muestra un mensaje de error\n",
        "        print(\"Por favor ingrese valores numéricos.\")\n",
        "        return  # Termina la ejecución de la función\n",
        "\n",
        "    # Dependiendo de la opción seleccionada, realiza la operación correspondiente\n",
        "    if opcion == '1':\n",
        "        # Llama a la función suma del módulo operaciones\n",
        "        resultado = operaciones.suma(num1, num2)\n",
        "    elif opcion == '2':\n",
        "        # Llama a la función resta del módulo operaciones\n",
        "        resultado = operaciones.resta(num1, num2)\n",
        "    elif opcion == '3':\n",
        "        # Llama a la función multiplicación del módulo operaciones\n",
        "        resultado = operaciones.multiplicacion(num1, num2)\n",
        "    elif opcion == '4':\n",
        "        # Llama a la función división del módulo operaciones\n",
        "        resultado = operaciones.division(num1, num2)\n",
        "    else:\n",
        "        # Si la opción no es válida, muestra un mensaje de error\n",
        "        print(\"Opción no válida\")\n",
        "        return  # Termina la ejecución de la función\n",
        "\n",
        "    # Muestra el resultado de la operación\n",
        "    print(\"El resultado es:\", resultado)\n",
        "\n",
        "# Verifica si este archivo es el punto de entrada principal del programa\n",
        "if __name__ == \"__main__\":\n",
        "    # Si es así, ejecuta la función main\n",
        "    main()"
      ],
      "metadata": {
        "colab": {
          "base_uri": "https://localhost:8080/"
        },
        "id": "qbtLOTj1sT97",
        "outputId": "5be2aff7-d639-427a-a221-8ebf57e8d567"
      },
      "execution_count": null,
      "outputs": [
        {
          "output_type": "stream",
          "name": "stdout",
          "text": [
            "Overwriting calculator.py\n"
          ]
        }
      ]
    },
    {
      "cell_type": "markdown",
      "source": [
        "## **Ejecución del Programa**\n",
        "\n",
        "1. Ejecuta las celdas que contienen `%%writefile` para crear los archivos Python.\n",
        "2. Verifica que los archivos han sido creados correctamente usando `!ls`.\n",
        "3. Ejecuta el siguiente comando para correr el programa:\n"
      ],
      "metadata": {
        "id": "5XiYr5tDuSdP"
      }
    },
    {
      "cell_type": "code",
      "source": [
        "!python calculator.py\n",
        "# El programa solicitará al usuario que seleccione una operación y ingrese dos números\n",
        "# Luego, mostrará el resultado de la operación seleccionada"
      ],
      "metadata": {
        "colab": {
          "base_uri": "https://localhost:8080/"
        },
        "id": "loXO82uKsWf0",
        "outputId": "325660f2-cd29-4e36-8749-7d8c4571493c"
      },
      "execution_count": null,
      "outputs": [
        {
          "output_type": "stream",
          "name": "stdout",
          "text": [
            "Calculadora sencilla\n",
            "1: Suma\n",
            "2: Resta\n",
            "3: Multiplicación\n",
            "4: División\n",
            "Seleccione la operación (1/2/3/4): 1\n",
            "Ingrese el primer número: 200\n",
            "Ingrese el segundo número: 400\n",
            "El resultado es: 600.0\n"
          ]
        }
      ]
    }
  ]
}